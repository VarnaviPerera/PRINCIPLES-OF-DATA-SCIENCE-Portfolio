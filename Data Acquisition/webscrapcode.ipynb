{
 "cells": [
  {
   "cell_type": "code",
   "execution_count": 3,
   "metadata": {},
   "outputs": [
    {
     "name": "stdout",
     "output_type": "stream",
     "text": [
      "Dataset URL: https://www.kaggle.com/datasets/aungpyaeap/supermarket-sales\n",
      "Dataset downloaded and extracted to C://Users//94718//OneDrive//Desktop//NIBM//Principle of DS//ProtofolioIndi//GitCode1//PRINCIPLES-OF-DATA-SCIENCE-Portfolio//Data Acquisition//Data\n"
     ]
    }
   ],
   "source": [
    "import kaggle\n",
    "import os\n",
    "\n",
    "# Directly setting the Kaggle credentials\n",
    "os.environ[\"KAGGLE_USERNAME\"] = \"varnaviperera1\"\n",
    "os.environ[\"KAGGLE_KEY\"] = \"5340861800462723b530b70dcdcd7031\"\n",
    "\n",
    "# Your dataset information\n",
    "dataset = \"aungpyaeap/supermarket-sales\"\n",
    "dataset_dir = \"C://Users//94718//OneDrive//Desktop//NIBM//Principle of DS//ProtofolioIndi//GitCode1//PRINCIPLES-OF-DATA-SCIENCE-Portfolio//Data Acquisition//Data\"\n",
    "os.makedirs(dataset_dir, exist_ok=True)\n",
    "\n",
    "# Download dataset\n",
    "kaggle.api.dataset_download_files(dataset, path=dataset_dir, unzip=True)\n",
    "print(f\"Dataset downloaded and extracted to {dataset_dir}\")\n"
   ]
  }
 ],
 "metadata": {
  "kernelspec": {
   "display_name": "base",
   "language": "python",
   "name": "python3"
  },
  "language_info": {
   "codemirror_mode": {
    "name": "ipython",
    "version": 3
   },
   "file_extension": ".py",
   "mimetype": "text/x-python",
   "name": "python",
   "nbconvert_exporter": "python",
   "pygments_lexer": "ipython3",
   "version": "3.12.4"
  }
 },
 "nbformat": 4,
 "nbformat_minor": 2
}
